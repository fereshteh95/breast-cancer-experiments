{
  "nbformat": 4,
  "nbformat_minor": 0,
  "metadata": {
    "colab": {
      "name": "Breast Cancer Data Train Test Split.ipynb",
      "provenance": []
    },
    "kernelspec": {
      "name": "python3",
      "display_name": "Python 3"
    },
    "language_info": {
      "name": "python"
    }
  },
  "cells": [
    {
      "cell_type": "code",
      "execution_count": null,
      "metadata": {
        "id": "rbpLWqRAiRjl"
      },
      "outputs": [],
      "source": [
        "import numpy as np\n",
        "import pandas as pd\n",
        "import os\n",
        "import shutil\n",
        "import pickle\n",
        "import glob\n",
        "from tqdm.notebook import tqdm\n",
        "import matplotlib.pyplot as plt\n",
        "from zipfile import ZipFile\n",
        "from sklearn.utils import shuffle\n",
        "from sklearn.model_selection import train_test_split\n",
        "import ast"
      ]
    },
    {
      "cell_type": "code",
      "source": [
        "root_path = '/content/drive/MyDrive/Breast Cancer Preprocessed Datasets/'"
      ],
      "metadata": {
        "id": "AtF9MDe6nsa_"
      },
      "execution_count": null,
      "outputs": []
    },
    {
      "cell_type": "markdown",
      "source": [
        "## CBIS"
      ],
      "metadata": {
        "id": "8eXZE4O08Rvd"
      }
    },
    {
      "cell_type": "code",
      "source": [
        "cbis = pd.read_csv(root_path+'/cbis-meta-data.csv')\n",
        "cbis.head()"
      ],
      "metadata": {
        "id": "XhK6hlag8Sj8"
      },
      "execution_count": null,
      "outputs": []
    },
    {
      "cell_type": "markdown",
      "source": [
        "## 4Class"
      ],
      "metadata": {
        "id": "N2P2_HMj8nUX"
      }
    },
    {
      "cell_type": "code",
      "source": [
        "class_names = ['Benign calcification', 'Malignant calcification', 'Benign mass', 'Malignant mass']"
      ],
      "metadata": {
        "id": "2kkHp2Tq-P9p"
      },
      "execution_count": null,
      "outputs": []
    },
    {
      "cell_type": "code",
      "source": [
        "label_dict = {\n",
        "    'Benign calcification': [1, 0, 0, 0],\n",
        "    'Malignant calcification': [0, 1, 0, 0],\n",
        "    'Benign mass': [0, 0, 1, 0],\n",
        "    'Malignant mass': [0, 0, 0, 1],\n",
        "}\n",
        "\n",
        "label = []\n",
        "\n",
        "for i in range(len(cbis)):\n",
        "    label.append(label_dict[cbis['Pathology'].values[i]+' '+cbis['Type'].values[i]])\n",
        "\n",
        "cbis[class_names] = label"
      ],
      "metadata": {
        "id": "O29O5lIU8fgq"
      },
      "execution_count": null,
      "outputs": []
    },
    {
      "cell_type": "code",
      "source": [
        "x = list(cbis.index)\n",
        "y = cbis[class_names].values\n",
        "\n",
        "\n",
        "x_train, x_test, y_train, y_test = train_test_split(x, y, test_size=0.2, random_state=2)\n",
        "print(len(x_train))"
      ],
      "metadata": {
        "id": "gTguoUW79VqW"
      },
      "execution_count": null,
      "outputs": []
    },
    {
      "cell_type": "markdown",
      "source": [
        "### Multi View Training"
      ],
      "metadata": {
        "id": "q_9jn4h7-ub0"
      }
    },
    {
      "cell_type": "code",
      "source": [
        "columns = ['CC', 'MLO']\n",
        "columns.extend(class_names)\n",
        "columns"
      ],
      "metadata": {
        "id": "WQmVo9wk-wfJ"
      },
      "execution_count": null,
      "outputs": []
    },
    {
      "cell_type": "code",
      "source": [
        "cbis_train = cbis.iloc[x_train]\n",
        "cbis_train = cbis_train[columns]\n",
        "cbis_train"
      ],
      "metadata": {
        "id": "XoIsifY891lB"
      },
      "execution_count": null,
      "outputs": []
    },
    {
      "cell_type": "code",
      "source": [
        "cbis_validation = cbis.iloc[x_test]\n",
        "cbis_validation = cbis_validation[columns]\n",
        "cbis_validation"
      ],
      "metadata": {
        "id": "UE0dm5hh-kEi"
      },
      "execution_count": null,
      "outputs": []
    },
    {
      "cell_type": "markdown",
      "source": [
        "### Single View Training"
      ],
      "metadata": {
        "id": "XL5ySaCh_JCn"
      }
    },
    {
      "cell_type": "code",
      "source": [
        "columns = ['imgfile']\n",
        "columns.extend(class_names)\n",
        "columns"
      ],
      "metadata": {
        "id": "tc51v-7W_QmK"
      },
      "execution_count": null,
      "outputs": []
    },
    {
      "cell_type": "code",
      "source": [
        "x_names = []\n",
        "labels = []\n",
        "\n",
        "for i in tqdm(range(len(x_train))):\n",
        "    cbis_ind = cbis.iloc[x_train[i]]\n",
        "\n",
        "    x = cbis_ind[['CC', 'MLO']]\n",
        "    y = [cbis_ind[class_names] for _ in range(2)]\n",
        "\n",
        "    x_names.extend(x)\n",
        "    labels.extend(y)\n",
        "\n",
        "cbis_train = pd.DataFrame(index=np.arange(len(x_names)), columns=columns)\n",
        "cbis_train['imgfile'] = x_names\n",
        "cbis_train[class_names] = labels\n",
        "cbis_train"
      ],
      "metadata": {
        "id": "mI5e9x6g_QmO"
      },
      "execution_count": null,
      "outputs": []
    },
    {
      "cell_type": "code",
      "source": [
        "x_names = []\n",
        "labels = []\n",
        "\n",
        "for i in tqdm(range(len(x_test))):\n",
        "    cbis_ind = cbis.iloc[x_test[i]]\n",
        "\n",
        "    x = cbis_ind[['CC', 'MLO']]\n",
        "    y = [cbis_ind[class_names] for _ in range(2)]\n",
        "\n",
        "    x_names.extend(x)\n",
        "    labels.extend(y)\n",
        "\n",
        "cbis_validation = pd.DataFrame(index=np.arange(len(x_names)), columns=columns)\n",
        "cbis_validation['imgfile'] = x_names\n",
        "cbis_validation[class_names] = labels\n",
        "cbis_validation"
      ],
      "metadata": {
        "id": "wV6gN2Fw_QmQ"
      },
      "execution_count": null,
      "outputs": []
    },
    {
      "cell_type": "code",
      "source": [
        ""
      ],
      "metadata": {
        "id": "nGWUNvRhAc9j"
      },
      "execution_count": null,
      "outputs": []
    }
  ]
}