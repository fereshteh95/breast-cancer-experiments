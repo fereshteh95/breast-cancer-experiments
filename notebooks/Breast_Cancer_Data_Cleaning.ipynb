{
  "nbformat": 4,
  "nbformat_minor": 0,
  "metadata": {
    "colab": {
      "name": "Breast Cancer Data Cleaning.ipynb",
      "provenance": [],
      "collapsed_sections": [
        "LW7M0TT9eS1P",
        "ka-nDnGR-j4L",
        "85q6fWChuged"
      ]
    },
    "kernelspec": {
      "name": "python3",
      "display_name": "Python 3"
    },
    "language_info": {
      "name": "python"
    }
  },
  "cells": [
    {
      "cell_type": "code",
      "source": [
        "from google.colab import drive\n",
        "drive.mount('/content/drive')"
      ],
      "metadata": {
        "id": "HVi3anXSUMVz"
      },
      "execution_count": null,
      "outputs": []
    },
    {
      "cell_type": "code",
      "metadata": {
        "id": "LXsvz1Zaz2Bq"
      },
      "source": [
        "!pip install SimpleITK==2.1.1\n",
        "!pip install pydicom\n",
        "\n",
        "import pydicom\n",
        "import SimpleITK as sitk\n",
        "import numpy as np\n",
        "import pandas as pd\n",
        "import cv2\n",
        "from tqdm.notebook import tqdm\n",
        "import copy\n",
        "import os\n",
        "import glob\n",
        "import shutil\n",
        "import random\n",
        "from sklearn.utils import shuffle\n",
        "import matplotlib.pyplot as plt"
      ],
      "execution_count": null,
      "outputs": []
    },
    {
      "cell_type": "code",
      "metadata": {
        "id": "i7NQO_F12vOU"
      },
      "source": [
        "def select_largest_obj(img_bin, lab_val=255, fill_holes=False, \n",
        "                       smooth_boundary=False, kernel_size=15):\n",
        "    '''Select the largest object from a binary image and optionally\n",
        "    fill holes inside it and smooth its boundary.\n",
        "    Args:\n",
        "        img_bin(2D array): 2D numpy array of binary image.\n",
        "        lab_val([int]): integer value used for the label of the largest \n",
        "                        object. Default is 255.\n",
        "        fill_holes([boolean]): whether fill the holes inside the largest \n",
        "                               object or not. Default is false.\n",
        "        smooth_boundary([boolean]): whether smooth the boundary of the \n",
        "                                    largest object using morphological \n",
        "                                    opening or not. Default is false.\n",
        "        kernel_size([int]): the size of the kernel used for morphological \n",
        "                            operation.\n",
        "    '''\n",
        "    n_labels, img_labeled, lab_stats, _ = cv2.connectedComponentsWithStats(\n",
        "        img_bin, connectivity=8, ltype=cv2.CV_32S)\n",
        "    largest_obj_lab = np.argmax(lab_stats[1:, 4]) + 1\n",
        "    largest_mask = np.zeros(img_bin.shape, dtype=np.uint8)\n",
        "    largest_mask[img_labeled == largest_obj_lab] = lab_val\n",
        "    if fill_holes:\n",
        "        bkg_locs = np.where(img_labeled == 0)\n",
        "        bkg_seed = (bkg_locs[0][0], bkg_locs[1][0])\n",
        "        img_floodfill = largest_mask.copy()\n",
        "        h_, w_ = largest_mask.shape\n",
        "        mask_ = np.zeros((h_ + 2, w_ + 2), dtype=np.uint8)\n",
        "        cv2.floodFill(img_floodfill, mask_, seedPoint=bkg_seed, newVal=lab_val)\n",
        "        holes_mask = cv2.bitwise_not(img_floodfill)  # mask of the holes.\n",
        "        largest_mask = largest_mask + holes_mask\n",
        "    if smooth_boundary:\n",
        "        kernel_ = np.ones((kernel_size, kernel_size), dtype=np.uint8)\n",
        "        largest_mask = cv2.morphologyEx(largest_mask, cv2.MORPH_OPEN, kernel_)\n",
        "    \n",
        "    cnts, _ = cv2.findContours(largest_mask.astype(np.uint8), cv2.RETR_EXTERNAL, cv2.CHAIN_APPROX_SIMPLE)\n",
        "    cnt = max(cnts, key = cv2.contourArea)\n",
        "    x, y, w, h = cv2.boundingRect(cnt)\n",
        "    return x, y, w, h, largest_mask"
      ],
      "execution_count": null,
      "outputs": []
    },
    {
      "cell_type": "code",
      "metadata": {
        "id": "KPsVNHwr2vOW"
      },
      "source": [
        "def process(img, threshold):\n",
        "    _, binary_img = cv2.threshold(img, threshold, \n",
        "                                    maxval=255, type=cv2.THRESH_BINARY)\n",
        "    x, y, w, h, mask_img = select_largest_obj(binary_img, lab_val=255, \n",
        "                                       fill_holes=False, \n",
        "                                       smooth_boundary=True, kernel_size=2)\n",
        "    croped_img, br_mask = img[y:y+h, x:x+w], mask_img[y:y+h, x:x+w]\n",
        "    filtered_img = croped_img\n",
        "    filtered_img = ((filtered_img - filtered_img.min()) / (filtered_img.max() - filtered_img.min())*255).astype(np.uint8)\n",
        "    return filtered_img"
      ],
      "execution_count": null,
      "outputs": []
    },
    {
      "cell_type": "code",
      "source": [
        "import numpy as np\n",
        "from scipy.ndimage import zoom\n",
        "\n",
        "\n",
        "def clipped_zoom(img, zoom_factor, **kwargs):\n",
        "\n",
        "    h, w = img.shape[:2]\n",
        "\n",
        "    zoom_tuple = (zoom_factor,) * 2 + (1,) * (img.ndim - 2)\n",
        "    zh = int(np.round(h / zoom_factor))\n",
        "    zw = int(np.round(w))\n",
        "    top = (h - zh) // 2\n",
        "    left = (w - zw) // 2\n",
        "\n",
        "    out = zoom(img[top:top+zh, left:left+zw], zoom_tuple, **kwargs)\n",
        "    return out"
      ],
      "metadata": {
        "id": "hiFAUx4F-h5u"
      },
      "execution_count": null,
      "outputs": []
    },
    {
      "cell_type": "code",
      "source": [
        "root_path = '/content/drive/MyDrive/Breast Cancer/'"
      ],
      "metadata": {
        "id": "HNqvQxgDgiUW"
      },
      "execution_count": null,
      "outputs": []
    },
    {
      "cell_type": "markdown",
      "source": [
        "# CMMD"
      ],
      "metadata": {
        "id": "LW7M0TT9eS1P"
      }
    },
    {
      "cell_type": "code",
      "source": [
        "cmmd = pd.read_csv(root_path + 'Chinese Mammography/metadata.csv')\n",
        "cmmd.head(2)"
      ],
      "metadata": {
        "id": "uSCJtj15yY70"
      },
      "execution_count": null,
      "outputs": []
    },
    {
      "cell_type": "code",
      "source": [
        "clinical = pd.read_excel(root_path+'Chinese Mammography/CMMD_clinicaldata_revision.xlsx')\n",
        "clinical"
      ],
      "metadata": {
        "id": "o5qbKOtwfMcL"
      },
      "execution_count": null,
      "outputs": []
    },
    {
      "cell_type": "code",
      "source": [
        "directory = []\n",
        "\n",
        "for i in tqdm(range(len(clinical))):\n",
        "    pid = clinical['ID1'].values[i]\n",
        "    cmmd_p = cmmd.loc[cmmd['Subject ID']==pid]\n",
        "    direc = cmmd_p['File Location'].values[0].replace('\\\\', '/')\n",
        "    final_path = 'Chinese Mammography'+direc[1:]\n",
        "    directory.append(final_path)\n",
        "\n",
        "clinical['File Location'] = directory\n",
        "clinical"
      ],
      "metadata": {
        "id": "v5tkzwumhRyX"
      },
      "execution_count": null,
      "outputs": []
    },
    {
      "cell_type": "code",
      "source": [
        "cc = []\n",
        "mlo = []\n",
        "\n",
        "not_downloaded = []\n",
        "for i in tqdm(range(len(clinical))):\n",
        "    sample = clinical.iloc[i]\n",
        "    file_path = root_path+sample['File Location']\n",
        "    try:\n",
        "        dicoms = os.listdir(file_path)\n",
        "    except:\n",
        "        cc.append(None)\n",
        "        mlo.append(None)\n",
        "        not_downloaded.append(file_path)\n",
        "        continue\n",
        "    else:\n",
        "        if len(dicoms) > 2:\n",
        "            side = sample['LeftRight']\n",
        "            if side == 'R':\n",
        "                cc_name = sample['File Location']+'/'+dicoms[2]\n",
        "                mlo_name = sample['File Location']+'/'+dicoms[3]\n",
        "            else:\n",
        "                cc_name = sample['File Location']+'/'+dicoms[0]\n",
        "                mlo_name = sample['File Location']+'/'+dicoms[1]\n",
        "        elif len(dicoms)==2:\n",
        "            cc_name = sample['File Location']+'/'+dicoms[0]\n",
        "            mlo_name = sample['File Location']+'/'+dicoms[1]\n",
        "        elif len(dicoms)==0:\n",
        "            cc_name = None\n",
        "            mlo_name = None\n",
        "            not_downloaded.append(file_path)\n",
        "        \n",
        "        cc.append(cc_name)\n",
        "        mlo.append(mlo_name)\n",
        "\n",
        "clinical['CC'] = cc\n",
        "clinical['MLO'] = mlo\n",
        "clinical"
      ],
      "metadata": {
        "id": "neWsg--l3yF_"
      },
      "execution_count": null,
      "outputs": []
    },
    {
      "cell_type": "code",
      "source": [
        "clinical = clinical[clinical['CC'].notna()].reset_index()\n",
        "clinical"
      ],
      "metadata": {
        "id": "kLtRlRJM_D0u"
      },
      "execution_count": null,
      "outputs": []
    },
    {
      "cell_type": "code",
      "source": [
        "subjects = clinical['ID1'].values\n",
        "subs, counts = np.unique(subjects, return_counts=True)\n",
        "print('Number of Subjects:', len(subs))\n",
        "\n",
        "n = 0\n",
        "for i in counts:\n",
        "    if i > 1:\n",
        "        n+=1\n",
        "print('Number of Subjects with Both-Side Mammography: ', n)\n",
        "\n",
        "print('*********************************************************')\n",
        "\n",
        "print('Number of Subjects with Calcification: ',\n",
        "      len(clinical.loc[clinical['abnormality']=='calcification'])\n",
        "      )\n",
        "\n",
        "print('Number of Subjects with Mass: ',\n",
        "      len(clinical.loc[clinical['abnormality']=='mass'])\n",
        "      )\n",
        "\n",
        "print('Number of Subjects with Mass and Calcification: ',\n",
        "      len(clinical.loc[clinical['abnormality']=='both'])\n",
        "      )\n",
        "\n",
        "print('Number of Subjects with Benign Abnormality: ',\n",
        "      len(clinical.loc[clinical['classification']=='Benign'])\n",
        "      )\n",
        "\n",
        "print('Number of Subjects with Malignant Abnormality: ',\n",
        "      len(clinical.loc[clinical['classification']=='Malignant'])\n",
        "      )\n",
        "\n",
        "print('*********************************************************')\n",
        "\n",
        "print('Numbers of Subjects with Benign Calcification: ',\n",
        "      len(clinical.loc[(clinical['abnormality']=='calcification') & (clinical['classification']=='Benign')])\n",
        "      )\n",
        "\n",
        "print('Numbers of Subjects with Malignant Calcification: ',\n",
        "      len(clinical.loc[(clinical['abnormality']=='calcification') & (clinical['classification']=='Malignant')])\n",
        "      )\n",
        "\n",
        "print('Numbers of Subjects with Benign Mass: ',\n",
        "      len(clinical.loc[(clinical['abnormality']=='mass') & (clinical['classification']=='Benign')])\n",
        "      )\n",
        "\n",
        "print('Numbers of Subjects with Malignant Mass: ',\n",
        "      len(clinical.loc[(clinical['abnormality']=='mass') & (clinical['classification']=='Malignant')])\n",
        "      )\n",
        "\n",
        "print('Numbers of Subjects with Benign Mass and Calcifacation: ',\n",
        "      len(clinical.loc[(clinical['abnormality']=='both') & (clinical['classification']=='Benign')])\n",
        "      )\n",
        "\n",
        "print('Numbers of Subjects with Malignant Mass and Calcifacation: ',\n",
        "      len(clinical.loc[(clinical['abnormality']=='both') & (clinical['classification']=='Malignant')])\n",
        "      )"
      ],
      "metadata": {
        "id": "hGkS1KZuCcZM"
      },
      "execution_count": null,
      "outputs": []
    },
    {
      "cell_type": "code",
      "source": [
        "n = 1222\n",
        "sample = clinical.iloc[n]\n",
        "file_path = root_path+sample['File Location']\n",
        "dicoms = os.listdir(file_path)\n",
        "abnormality = sample['abnormality']\n",
        "label = sample['classification']\n",
        "\n",
        "print(sample['ID1'])\n",
        "print(label, abnormality)\n",
        "print('Images: ')\n",
        "\n",
        "for i in range(len(dicoms)):\n",
        "    img = sitk.ReadImage(file_path+'/'+dicoms[i])\n",
        "    img = sitk.GetArrayFromImage(img)[0]\n",
        "    maxx = img.max()\n",
        "    plt.figure(figsize=(12, 4))\n",
        "    plt.subplot(1, 3, 1)\n",
        "    plt.imshow(img, cmap='gray')\n",
        "    plt.axis('off')\n",
        "    plt.title('original, name= {}'.format(dicoms[i]))\n",
        "\n",
        "    img = (((img - img.min())/(img.max() - img.min()))*255).astype(np.uint8)\n",
        "    img = process(img, 5)\n",
        "    plt.subplot(1, 3, 2)\n",
        "    plt.imshow(img, cmap='gray')\n",
        "    plt.axis('off')\n",
        "    plt.title('cropped')\n",
        "\n",
        "    plt.subplot(1, 3, 3)\n",
        "    cl = cv2.createCLAHE(2)\n",
        "    img = cl.apply(img)\n",
        "    plt.imshow(img, cmap='gray')\n",
        "    plt.axis('off')\n",
        "    plt.title('clahe=2')\n",
        "    plt.show()"
      ],
      "metadata": {
        "id": "_nMKb1Fuoww3"
      },
      "execution_count": null,
      "outputs": []
    },
    {
      "cell_type": "code",
      "source": [
        "clinical.to_csv(root_path+'Chinese Mammography/new-metadata.csv')\n",
        "\n",
        "df = pd.DataFrame(index=np.arange(len(not_downloaded)), columns=['Not Downloaded'])\n",
        "df['Not Downloaded'] = not_downloaded\n",
        "df.to_csv(root_path+'/notdownloaded.csv')"
      ],
      "metadata": {
        "id": "ZIw9ERazD77f"
      },
      "execution_count": null,
      "outputs": []
    },
    {
      "cell_type": "markdown",
      "source": [
        "# CBIS"
      ],
      "metadata": {
        "id": "ka-nDnGR-j4L"
      }
    },
    {
      "cell_type": "code",
      "source": [
        "mass1 = pd.read_csv(root_path+'CBIS/CBIS-DDSM-All-doiJNLP-zzWs5zfZ/mass_case_description_train_set.csv')\n",
        "mass2 = pd.read_csv(root_path+'CBIS/CBIS-DDSM-All-doiJNLP-zzWs5zfZ/mass_case_description_test_set.csv')\n",
        "mass = mass1.append(mass2, ignore_index=True)\n",
        "mass.head()"
      ],
      "metadata": {
        "id": "emd9lqsSegnd"
      },
      "execution_count": null,
      "outputs": []
    },
    {
      "cell_type": "code",
      "source": [
        "calc1 = pd.read_csv(root_path+'CBIS/CBIS-DDSM-All-doiJNLP-zzWs5zfZ/calc_case_description_train_set.csv')\n",
        "calc2 = pd.read_csv(root_path+'CBIS/CBIS-DDSM-All-doiJNLP-zzWs5zfZ/calc_case_description_test_set.csv')\n",
        "calc = calc1.append(calc2, ignore_index=True)\n",
        "calc.head()"
      ],
      "metadata": {
        "id": "VOGWz2yQfOxO"
      },
      "execution_count": null,
      "outputs": []
    },
    {
      "cell_type": "code",
      "source": [
        "cbis = mass.append(calc, ignore_index=True)\n",
        "cbis.head()"
      ],
      "metadata": {
        "id": "P9dhHZ9ngoue"
      },
      "execution_count": null,
      "outputs": []
    },
    {
      "cell_type": "code",
      "source": [
        "meta = pd.read_csv(root_path+'CBIS/CBIS-DDSM-All-doiJNLP-zzWs5zfZ/metadata.csv')\n",
        "meta = meta.loc[meta['Series Description']=='full mammogram images']\n",
        "meta.head()"
      ],
      "metadata": {
        "id": "mtl8hY2_qKp3"
      },
      "execution_count": null,
      "outputs": []
    },
    {
      "cell_type": "code",
      "source": [
        "patients = cbis['patient_id'].values\n",
        "print(len(patients))\n",
        "patients = np.unique(patients)\n",
        "print(len(patients))"
      ],
      "metadata": {
        "id": "5RcneEwogwzw"
      },
      "execution_count": null,
      "outputs": []
    },
    {
      "cell_type": "code",
      "source": [
        "patient_id = []\n",
        "side = []\n",
        "cc_path = []\n",
        "mlo_path = []\n",
        "pathology = []\n",
        "density = []\n",
        "assessment = []\n",
        "ab_type = []\n",
        "for i in tqdm(range(len(patients))):\n",
        "    df_patient = cbis.loc[cbis['patient_id']==patients[i]]\n",
        "    for s in ['LEFT', 'RIGHT']:\n",
        "        df_side = df_patient.loc[df_patient['left or right breast'] == s]\n",
        "        if len(np.unique(df_side['image view'].values)) >= 2:\n",
        "            try:\n",
        "                cc = df_side.loc[df_side['image view']=='CC']['image file path'].values[0]\n",
        "                cc = glob.glob(root_path+'CBIS/CBIS-DDSM-All-doiJNLP-zzWs5zfZ/'+meta.loc[meta['Subject ID']==cc.split('/')[0]]['File Location'].values[0][2:]+'/*.dcm')[0]\n",
        "                cc = cc.replace(root_path, '')\n",
        "                mlo = df_side.loc[df_side['image view']=='MLO']['image file path'].values[0]\n",
        "                mlo = glob.glob(root_path+'CBIS/CBIS-DDSM-All-doiJNLP-zzWs5zfZ/'+meta.loc[meta['Subject ID']==mlo.split('/')[0]]['File Location'].values[0][2:]+'/*.dcm')[0]\n",
        "                mlo = mlo.replace(root_path, '') \n",
        "            except:\n",
        "                continue\n",
        "            cc_path.append(cc)\n",
        "            mlo_path.append(mlo)\n",
        "            patient_id.append(patients[i])\n",
        "            side.append(s)\n",
        "            density.append(df_side['breast_density'].values[0])\n",
        "            pathh = df_side['pathology'].values[0]\n",
        "            if '_' in pathh:\n",
        "                pathh = 'BENIGN'\n",
        "            pathology.append(pathh.lower().capitalize())\n",
        "            assessment.append(df_side['assessment'].values[0])\n",
        "            ab_type.append(df_side['abnormality type'].values[0])"
      ],
      "metadata": {
        "id": "xtDiy38qh8v1"
      },
      "execution_count": null,
      "outputs": []
    },
    {
      "cell_type": "code",
      "source": [
        "index = np.arange(len(patient_id))\n",
        "columns = ['PatientID', 'Side', 'CC', 'MLO', 'Pathology', 'Density', 'Assessment', 'Type']\n",
        "df = pd.DataFrame(index=index, columns=columns)\n",
        "\n",
        "df['PatientID'] = patient_id\n",
        "df['Side'] = side\n",
        "df['CC'] = cc_path\n",
        "df['MLO'] = mlo_path\n",
        "df['Pathology'] = pathology\n",
        "df['Density'] = density\n",
        "df['Assessment'] = assessment\n",
        "df['Type'] = ab_type\n",
        "\n",
        "df"
      ],
      "metadata": {
        "id": "71YU5XPGkHTl"
      },
      "execution_count": null,
      "outputs": []
    },
    {
      "cell_type": "code",
      "source": [
        "clinical = df\n",
        "subjects = clinical['PatientID'].values\n",
        "subs, counts = np.unique(subjects, return_counts=True)\n",
        "print('Number of Subjects:', len(subs))\n",
        "\n",
        "n = 0\n",
        "for i in counts:\n",
        "    if i > 1:\n",
        "        n+=1\n",
        "print('Number of Subjects with Both-Side Mammography: ', n)\n",
        "\n",
        "print('*********************************************************')\n",
        "\n",
        "print('Number of Subjects with Calcification: ',\n",
        "      len(clinical.loc[clinical['Type']=='calcification'])\n",
        "      )\n",
        "\n",
        "print('Number of Subjects with Mass: ',\n",
        "      len(clinical.loc[clinical['Type']=='mass'])\n",
        "      )\n",
        "\n",
        "print('Number of Subjects with Benign Abnormality: ',\n",
        "      len(clinical.loc[clinical['Pathology']=='Benign'])\n",
        "      )\n",
        "\n",
        "print('Number of Subjects with Malignant Abnormality: ',\n",
        "      len(clinical.loc[clinical['Pathology']=='Malignant'])\n",
        "      )\n",
        "\n",
        "print('*********************************************************')\n",
        "\n",
        "print('Numbers of Subjects with Benign Calcification: ',\n",
        "      len(clinical.loc[(clinical['Type']=='calcification') & (clinical['Pathology']=='Benign')])\n",
        "      )\n",
        "\n",
        "print('Numbers of Subjects with Malignant Calcification: ',\n",
        "      len(clinical.loc[(clinical['Type']=='calcification') & (clinical['Pathology']=='Malignant')])\n",
        "      )\n",
        "\n",
        "print('Numbers of Subjects with Benign Mass: ',\n",
        "      len(clinical.loc[(clinical['Type']=='mass') & (clinical['Pathology']=='Benign')])\n",
        "      )\n",
        "\n",
        "print('Numbers of Subjects with Malignant Mass: ',\n",
        "      len(clinical.loc[(clinical['Type']=='mass') & (clinical['Pathology']=='Malignant')])\n",
        "      )\n"
      ],
      "metadata": {
        "id": "rgckken2R82N"
      },
      "execution_count": null,
      "outputs": []
    },
    {
      "cell_type": "code",
      "source": [
        "n = 1222\n",
        "sample = clinical.iloc[n]\n",
        "CC = sample['CC']\n",
        "MLO = sample['MLO']\n",
        "abnormality = sample['Type']\n",
        "label = sample['Pathology']\n",
        "\n",
        "print(sample['PatientID'])\n",
        "print(label, abnormality)\n",
        "print('Images: ')\n",
        "\n",
        "dicoms = [CC, MLO]\n",
        "for i in range(len(dicoms)):\n",
        "    img = sitk.ReadImage(root_path+'/'+dicoms[i])\n",
        "    img = sitk.GetArrayFromImage(img)[0]\n",
        "    plt.figure(figsize=(12, 4))\n",
        "    plt.subplot(1, 3, 1)\n",
        "    plt.imshow(img, cmap='gray')\n",
        "    plt.axis('off')\n",
        "    plt.title('original')\n",
        "    img = (((img - img.min())/(img.max() - img.min()))*255).astype(np.uint8)\n",
        "    img = clipped_zoom(img, 1.2)\n",
        "    img = process(img, 5)\n",
        "    plt.subplot(1, 3, 2)\n",
        "    plt.imshow(img, cmap='gray')\n",
        "    plt.axis('off')\n",
        "    plt.title('cropped')\n",
        "    plt.subplot(1, 3, 3)\n",
        "    cl = cv2.createCLAHE(2)\n",
        "    img = cl.apply(img)\n",
        "    plt.imshow(img, cmap='gray')\n",
        "    plt.axis('off')\n",
        "    plt.title('clahe=2')\n",
        "    plt.show()"
      ],
      "metadata": {
        "id": "1KGAHh6AZcxB"
      },
      "execution_count": null,
      "outputs": []
    },
    {
      "cell_type": "code",
      "source": [
        "clinical.to_csv(root_path+'CBIS/CBIS-DDSM-All-doiJNLP-zzWs5zfZ/new-metadata.csv')"
      ],
      "metadata": {
        "id": "9dI_G_MJh5wo"
      },
      "execution_count": null,
      "outputs": []
    },
    {
      "cell_type": "markdown",
      "source": [
        "# Local Data"
      ],
      "metadata": {
        "id": "85q6fWChuged"
      }
    },
    {
      "cell_type": "code",
      "source": [
        "labels = pd.read_csv(root_path+'label_with_path.csv')\n",
        "labels.head()"
      ],
      "metadata": {
        "id": "nPviOUejiJcR"
      },
      "execution_count": null,
      "outputs": []
    },
    {
      "cell_type": "code",
      "source": [
        "path = labels['Path'].values\n",
        "\n",
        "path = [x.replace('/content/drive/MyDrive/', '') for x in path]\n",
        "\n",
        "labels['Path'] = path\n",
        "labels.head()"
      ],
      "metadata": {
        "id": "7iig2DpJvXAG"
      },
      "execution_count": null,
      "outputs": []
    },
    {
      "cell_type": "code",
      "source": [
        "des = []\n",
        "\n",
        "for i in tqdm(range(len(labels))):\n",
        "    dicom = root_path+'/'+labels['Path'].values[i]\n",
        "    ds = pydicom.dcmread(dicom, stop_before_pixels=True)\n",
        "    des.append(ds.SeriesDescription)\n",
        "\n",
        "labels['Description'] = des\n",
        "labels"
      ],
      "metadata": {
        "id": "QfdydbK6KCNP"
      },
      "execution_count": null,
      "outputs": []
    },
    {
      "cell_type": "code",
      "source": [
        "keep = ['L CC', 'R CC', 'R MLO', 'L MLO']\n",
        "labels = labels.loc[labels['Description'].isin(keep)]\n",
        "labels"
      ],
      "metadata": {
        "id": "sDMxo_qxKX1i"
      },
      "execution_count": null,
      "outputs": []
    },
    {
      "cell_type": "code",
      "source": [
        "patients = labels['Subject'].values\n",
        "patients, number = np.unique(patients, return_counts=True)\n",
        "patients = [patients[i] for i in range(len(patients)) if number[i] > 1]\n",
        "number = np.array([number[i] for i in range(len(number)) if number[i] > 1])\n",
        "print('Number of Subjects: ', len(patients))"
      ],
      "metadata": {
        "id": "MB2Rnv61ut1s"
      },
      "execution_count": null,
      "outputs": []
    },
    {
      "cell_type": "code",
      "source": [
        "labels = labels.loc[labels['Subject'].isin(patients)]\n",
        "labels"
      ],
      "metadata": {
        "id": "6uCSCgK3NFY6"
      },
      "execution_count": null,
      "outputs": []
    },
    {
      "cell_type": "code",
      "source": [
        "side = []\n",
        "view = []\n",
        "\n",
        "for i in range(len(labels)):\n",
        "    des = labels['Description'].values[i]\n",
        "\n",
        "    if 'R' in des:\n",
        "        side.append('R')\n",
        "    else:\n",
        "        side.append('L')\n",
        "\n",
        "    if 'CC' in des:\n",
        "        view.append('CC')\n",
        "    else:\n",
        "        view.append('MLO')\n",
        "\n",
        "labels['Side'] = side\n",
        "labels['View'] = view\n",
        "\n",
        "labels"
      ],
      "metadata": {
        "id": "ysJGQfxuNL1S"
      },
      "execution_count": null,
      "outputs": []
    },
    {
      "cell_type": "code",
      "source": [
        "keep = []\n",
        "\n",
        "for i in range(len(labels)):\n",
        "    p = labels['Subject'].values[i]\n",
        "    pdf = labels.loc[labels['Subject']==p]\n",
        "\n",
        "    if len(pdf) == 4:\n",
        "        side = np.unique(pdf['Side'].values)\n",
        "\n",
        "        if ('L' in side) and ('R' in side):\n",
        "            view = np.unique(pdf['View'].values)\n",
        "            if ('CC' in view) and ('MLO' in view):\n",
        "                keep.append(p)\n",
        "\n",
        "    elif len(pdf) == 3:\n",
        "        side = np.unique(pdf['Side'].values)\n",
        "        view = np.unique(pdf['View'].values)\n",
        "        if ('CC' in view) and ('MLO' in view):\n",
        "            keep.append(p)\n",
        "    elif len(pdf) == 2:\n",
        "        side = np.unique(pdf['Side'].values)\n",
        "        if len(side) == 1:\n",
        "            view = np.unique(pdf['View'].values)\n",
        "            if ('CC' in view) and ('MLO' in view):\n",
        "                keep.append(p)\n",
        "    elif len(pdf) == 5:\n",
        "        side = np.unique(pdf['Side'].values)\n",
        "        view = np.unique(pdf['View'].values)\n",
        "        if ('CC' in view) and ('MLO' in view):\n",
        "            keep.append(p)\n",
        "labels = labels.loc[labels['Subject'].isin(keep)]\n",
        "labels"
      ],
      "metadata": {
        "id": "l4Aoi8cTN7VU"
      },
      "execution_count": null,
      "outputs": []
    },
    {
      "cell_type": "code",
      "source": [
        "patients = labels['Subject'].values\n",
        "patients, number = np.unique(patients, return_counts=True)\n",
        "patients = [patients[i] for i in range(len(patients)) if number[i] > 1]\n",
        "number = np.array([number[i] for i in range(len(number)) if number[i] > 1])\n",
        "print('Number of Subjects: ', len(patients))"
      ],
      "metadata": {
        "id": "mK59_ZxHPm5J"
      },
      "execution_count": null,
      "outputs": []
    },
    {
      "cell_type": "code",
      "source": [
        "number"
      ],
      "metadata": {
        "id": "yajnrU5QPsbC"
      },
      "execution_count": null,
      "outputs": []
    },
    {
      "cell_type": "code",
      "source": [
        "np.unique(number, return_counts=True)"
      ],
      "metadata": {
        "id": "oK6SHjbxRCfI"
      },
      "execution_count": null,
      "outputs": []
    },
    {
      "cell_type": "code",
      "source": [
        "PatientID = []\n",
        "Side = []\n",
        "CC = []\n",
        "MLO = []\n",
        "\n",
        "for i in tqdm(range(len(patients))):\n",
        "    if number[i] == 4:\n",
        "        p = patients[i]\n",
        "        p_df = labels.loc[labels['Subject']==p]\n",
        "        S = ['L', 'R']\n",
        "        for s in S:\n",
        "            PatientID.append(p)\n",
        "            Side.append(s)\n",
        "            s_df = p_df.loc[p_df['Side']==s]\n",
        "            cc = s_df.loc[s_df['View']=='CC']['Path'].values[0]\n",
        "            mlo = s_df.loc[s_df['View']=='MLO']['Path'].values[0]\n",
        "            CC.append(cc)\n",
        "            MLO.append(mlo)\n",
        "    elif number[i] == 2:\n",
        "        p = patients[i]\n",
        "\n",
        "        p_df = labels.loc[labels['Subject']==p]\n",
        "        s = p_df['Side'].values[0]\n",
        "\n",
        "        Side.append(s)\n",
        "        PatientID.append(p)\n",
        "        s_df = p_df.loc[p_df['Side']==s]\n",
        "        cc = s_df.loc[s_df['View']=='CC']['Path'].values[0]\n",
        "        mlo = s_df.loc[s_df['View']=='MLO']['Path'].values[0]\n",
        "        CC.append(cc)\n",
        "        MLO.append(mlo)\n",
        "\n",
        "print(len(PatientID))"
      ],
      "metadata": {
        "id": "Yy6yLlLt8qhl"
      },
      "execution_count": null,
      "outputs": []
    },
    {
      "cell_type": "code",
      "source": [
        "for i in tqdm(range(len(patients))):\n",
        "    if number[i] == 3:\n",
        "        p = patients[i]\n",
        "        p_df = labels.loc[labels['Subject']==p]\n",
        "        s = p_df['Side'].values\n",
        "        s = np.unique(s)\n",
        "        if len(s) == 1:\n",
        "            PatientID.append(p)\n",
        "            side = s[0]\n",
        "            Side.append(side)\n",
        "            s_df = p_df.loc[p_df['Side']==side]\n",
        "            cc = s_df.loc[s_df['View']=='CC']['Path'].values[0]\n",
        "            mlo = s_df.loc[s_df['View']=='MLO']['Path'].values[0]\n",
        "            CC.append(cc)\n",
        "            MLO.append(mlo)\n",
        "        else:\n",
        "            S = ['L', 'R']\n",
        "            for s in S:\n",
        "                s_df = p_df.loc[p_df['Side']==s]\n",
        "                if len(s_df) == 2:\n",
        "                    PatientID.append(p)\n",
        "                    Side.append(s)\n",
        "                    cc = s_df.loc[s_df['View']=='CC']['Path'].values[0]\n",
        "                    mlo = s_df.loc[s_df['View']=='MLO']['Path'].values[0]\n",
        "                    CC.append(cc)\n",
        "                    MLO.append(mlo)\n",
        "\n",
        "print(len(PatientID))"
      ],
      "metadata": {
        "id": "b7SAC9QOtlAl"
      },
      "execution_count": null,
      "outputs": []
    },
    {
      "cell_type": "code",
      "source": [
        "Pathology = []\n",
        "Type = []\n",
        "birads = []\n",
        "\n",
        "candids = ['Normal', 'Benign', 'Malignant']\n",
        "for i in tqdm(range(len(PatientID))):\n",
        "    pdf = labels.loc[labels['Subject']==PatientID[i]]\n",
        "    c = candids[np.argmax(pdf[['Normal', 'Benign', 'Malignant']].values[0])]\n",
        "    Pathology.append(c)\n",
        "    Type.append(None)\n",
        "    birads.append(pdf['BI_RADS'].values[0])"
      ],
      "metadata": {
        "id": "kaouqK_fwxV0"
      },
      "execution_count": null,
      "outputs": []
    },
    {
      "cell_type": "code",
      "source": [
        "columns = ['PatientID', 'Side', 'CC', 'MLO', 'Pathology', 'Type', 'BI-RADS']\n",
        "index = np.arange(len(PatientID))\n",
        "\n",
        "df = pd.DataFrame(index=index, columns=columns)\n",
        "df['PatientID'] = PatientID\n",
        "df['Side'] = Side\n",
        "df['CC'] = CC\n",
        "df['MLO'] = MLO\n",
        "df['Pathology'] = Pathology\n",
        "df['Type'] = Type\n",
        "df['BI-RADS'] = birads\n",
        "\n",
        "df"
      ],
      "metadata": {
        "id": "r3dlBjxLw4Js"
      },
      "execution_count": null,
      "outputs": []
    },
    {
      "cell_type": "code",
      "source": [
        "df = df.drop(250)\n",
        "df"
      ],
      "metadata": {
        "id": "5L4AG1grzCby"
      },
      "execution_count": null,
      "outputs": []
    },
    {
      "cell_type": "code",
      "source": [
        "def person_names_callback(dataset, data_element):\n",
        "    if data_element.VR == \"PN\":\n",
        "        data_element.value = \"anonymous\"\n",
        "\n",
        "def anonymize_dicom(path):\n",
        "    dataset = pydicom.dcmread(path)\n",
        "    dataset.walk(person_names_callback)\n",
        "    return dataset"
      ],
      "metadata": {
        "id": "3GGDuEEFzzu0"
      },
      "execution_count": null,
      "outputs": []
    },
    {
      "cell_type": "code",
      "source": [
        "patients = np.unique(df['PatientID'].values)\n",
        "\n",
        "PatientID = []\n",
        "Side = []\n",
        "CC = []\n",
        "MLO = []\n",
        "Pathology = []\n",
        "Type = []\n",
        "BI_Rads = []\n",
        "\n",
        "for i in tqdm(range(len(patients))):\n",
        "    pdf = df.loc[df['PatientID']==patients[i]]\n",
        "\n",
        "    p_direc = 'Local_Data/'+'{}/'.format(i)\n",
        "    try:\n",
        "        os.mkdir(root_path+p_direc)\n",
        "    except:\n",
        "        print('exists')\n",
        "\n",
        "    if len(pdf) == 2:\n",
        "        sides = ['R', 'L']\n",
        "        for s in sides:\n",
        "            s_df = pdf.loc[pdf['Side']==s]\n",
        "\n",
        "            s_direc = '{}/'.format(s)\n",
        "            try:\n",
        "                os.mkdir(root_path+p_direc+s_direc)\n",
        "            except:\n",
        "                print('exists')\n",
        "\n",
        "            cc = s_df['CC'].values[0]\n",
        "            mlo = s_df['MLO'].values[0]\n",
        "\n",
        "            ccdicom = anonymize_dicom(root_path+'/'+cc)\n",
        "            mlodicom = anonymize_dicom(root_path+'/'+mlo)\n",
        "\n",
        "\n",
        "            ccdicom.save_as(root_path+p_direc+s_direc+'CC.dcm')\n",
        "            mlodicom.save_as(root_path+p_direc+s_direc+'MLO.dcm')\n",
        "\n",
        "            PatientID.append(i)\n",
        "            Side.append(s)\n",
        "            CC.append(p_direc+s_direc+'CC.dcm')\n",
        "            MLO.append(p_direc+s_direc+'MLO.dcm')\n",
        "            Pathology.append(s_df['Pathology'].values[0])\n",
        "            Type.append(s_df['Type'].values[0])\n",
        "            BI_Rads.append(s_df['BI-RADS'].values[0])\n",
        "\n",
        "    else:\n",
        "        sides = ['R', 'L']\n",
        "        for s in sides:\n",
        "            s_df = pdf.loc[pdf['Side']==s]\n",
        "            if len(s_df) == 1:\n",
        "                s_direc = '{}/'.format(s)\n",
        "                try:\n",
        "                    os.mkdir(root_path+p_direc+s_direc)\n",
        "                except:\n",
        "                    print('exists')\n",
        "                \n",
        "                cc = s_df['CC'].values[0]\n",
        "                mlo = s_df['MLO'].values[0]\n",
        "\n",
        "                ccdicom = anonymize_dicom(root_path+'/'+cc)\n",
        "                mlodicom = anonymize_dicom(root_path+'/'+mlo)\n",
        "\n",
        "\n",
        "                ccdicom.save_as(root_path+p_direc+s_direc+'CC.dcm')\n",
        "                mlodicom.save_as(root_path+p_direc+s_direc+'MLO.dcm')\n",
        "\n",
        "                PatientID.append(i)\n",
        "                Side.append(s)\n",
        "                CC.append(p_direc+s_direc+'CC.dcm')\n",
        "                MLO.append(p_direc+s_direc+'MLO.dcm')\n",
        "                Pathology.append(s_df['Pathology'].values[0])\n",
        "                Type.append(s_df['Type'].values[0])\n",
        "                BI_Rads.append(s_df['BI-RADS'].values[0])"
      ],
      "metadata": {
        "id": "sR1qDus61f97"
      },
      "execution_count": null,
      "outputs": []
    },
    {
      "cell_type": "code",
      "source": [
        "from pandas.core.arrays.numeric import T\n",
        "columns = ['PatientID', 'Side', 'CC', 'MLO', 'Pathology', 'Type', 'BI-RADS']\n",
        "index = np.arange(len(PatientID))\n",
        "\n",
        "df = pd.DataFrame(index=index, columns=columns)\n",
        "df['PatientID'] = PatientID\n",
        "df['Side'] = Side\n",
        "df['CC'] = CC\n",
        "df['MLO'] = MLO\n",
        "df['Pathology'] = Pathology\n",
        "df['Type'] = Type\n",
        "df['BI-RADS'] = BI_Rads\n",
        "\n",
        "df"
      ],
      "metadata": {
        "id": "HRd8jePp4YXY"
      },
      "execution_count": null,
      "outputs": []
    },
    {
      "cell_type": "code",
      "source": [
        "for i in range(len(df)):\n",
        "    cc = root_path+df['CC'].values[i]\n",
        "    mlo = root_path+df['MLO'].values[i]\n",
        "\n",
        "    s = df['Side'].values[i]\n",
        "\n",
        "    img = sitk.ReadImage(cc)\n",
        "    img = sitk.GetArrayFromImage(img)[0]\n",
        "    img = (((img - img.min())/(img.max() - img.min()))*255).astype(np.uint8)\n",
        "    img = process(img, 5)\n",
        "\n",
        "    print('*********************{}**********************'.format(i))\n",
        "    plt.figure()\n",
        "    plt.subplot(1, 2, 1)\n",
        "    plt.imshow(img, cmap='gray')\n",
        "    plt.title('{}-{}'.format(s, 'CC'))\n",
        "    plt.axis('off')\n",
        "\n",
        "    img = sitk.ReadImage(mlo)\n",
        "    img = sitk.GetArrayFromImage(img)[0]\n",
        "    img = (((img - img.min())/(img.max() - img.min()))*255).astype(np.uint8)\n",
        "    img = process(img, 5)\n",
        "\n",
        "    plt.subplot(1, 2, 2)\n",
        "    plt.imshow(img, cmap='gray')\n",
        "    plt.title('{}-{}'.format(s, 'MLO'))\n",
        "    plt.axis('off')\n",
        "    plt.show()"
      ],
      "metadata": {
        "id": "xgtUwTqKZH7P"
      },
      "execution_count": null,
      "outputs": []
    },
    {
      "cell_type": "code",
      "source": [
        "df.to_csv(root_path+'/local-meta-data.csv')"
      ],
      "metadata": {
        "id": "wFJx48-A4yaV"
      },
      "execution_count": null,
      "outputs": []
    },
    {
      "cell_type": "code",
      "source": [
        "print(len(df.loc[df['Pathology']=='Normal']))\n",
        "print(len(df.loc[df['Pathology']=='Benign']))\n",
        "print(len(df.loc[df['Pathology']=='Malignant']))"
      ],
      "metadata": {
        "id": "I20dhikAht7p"
      },
      "execution_count": null,
      "outputs": []
    },
    {
      "cell_type": "code",
      "source": [
        ""
      ],
      "metadata": {
        "id": "BYRfxjce7hao"
      },
      "execution_count": null,
      "outputs": []
    },
    {
      "cell_type": "markdown",
      "source": [
        "# KAA Dataset"
      ],
      "metadata": {
        "id": "OuLN1qrsv5IF"
      }
    },
    {
      "cell_type": "code",
      "source": [
        "data_dir = 'KAA_Dataset/mammogram dataset/'\n",
        "\n",
        "metadata = pd.read_excel(root_path+data_dir+'correctSheetlast.xlsx', sheet_name='correctSheet')\n",
        "cols_to_keep = [\n",
        "                'patient id ', 'date of the study', 'brest type',\n",
        "                'brest view', 'assesment ', 'image path ', 'patient age'\n",
        "]\n",
        "metadata = metadata[cols_to_keep]\n",
        "metadata = metadata.loc[metadata['assesment ']!='BIRAD 0']\n",
        "\n",
        "path = metadata['image path '].values\n",
        "path = [data_dir+'KAU-MDS (DICOM format)/'+x.replace('mammograms', '') for x in path]\n",
        "metadata['image path ']=path\n",
        "metadata"
      ],
      "metadata": {
        "id": "3DkN4I38v6cj"
      },
      "execution_count": null,
      "outputs": []
    },
    {
      "cell_type": "code",
      "source": [
        "patients = metadata['patient id '].values\n",
        "patients, number = np.unique(patients, return_counts=True)\n",
        "patients = [patients[i] for i in range(len(patients)) if number[i] in [4, 8, 12]]\n",
        "number = np.array([number[i] for i in range(len(number)) if number[i] in [4, 8, 12]])\n",
        "print('Number of Subjects: ', len(patients))"
      ],
      "metadata": {
        "id": "mHGxyN-VynLx"
      },
      "execution_count": null,
      "outputs": []
    },
    {
      "cell_type": "code",
      "source": [
        "metadata = metadata.loc[metadata['patient id '].isin(patients)]\n",
        "metadata"
      ],
      "metadata": {
        "id": "AILrw0DY09ug"
      },
      "execution_count": null,
      "outputs": []
    },
    {
      "cell_type": "code",
      "source": [
        "PatientID = []\n",
        "Side = []\n",
        "CC = []\n",
        "MLO = []\n",
        "Pathology = []\n",
        "Type = []\n",
        "birads = []\n",
        "\n",
        "for i in tqdm(range(len(patients))):\n",
        "    pdf = metadata.loc[metadata['patient id ']==patients[i]]\n",
        "    dates = list(np.unique(pdf['date of the study'].values))\n",
        "\n",
        "    for date in dates:\n",
        "        date_df = pdf.loc[pdf['date of the study']==date]\n",
        "\n",
        "        side = ['R', 'L']\n",
        "\n",
        "        for s in side:\n",
        "            sdf = date_df.loc[date_df['brest type']==s]\n",
        "            if len(sdf) == 2:\n",
        "                cc = sdf.loc[sdf['brest view']=='CC']['image path '].values[0]\n",
        "                mlo = sdf.loc[sdf['brest view']=='MLO']['image path '].values[0]\n",
        "                birad = int(sdf['assesment '].values[0].split(' ')[1])\n",
        "\n",
        "                PatientID.append(patients[i])\n",
        "                Side.append(s)\n",
        "                CC.append(cc)\n",
        "                MLO.append(mlo)\n",
        "                Pathology.append(None)\n",
        "                Type.append(None)\n",
        "                birads.append(birad)"
      ],
      "metadata": {
        "id": "3YBYyOznyEdu"
      },
      "execution_count": null,
      "outputs": []
    },
    {
      "cell_type": "code",
      "source": [
        "columns = ['PatientID', 'Side', 'CC', 'MLO', 'Pathology', 'Type', 'BI-RADS']\n",
        "index = np.arange(len(PatientID))\n",
        "\n",
        "df = pd.DataFrame(index=index, columns=columns)\n",
        "df['PatientID'] = PatientID\n",
        "df['Side'] = Side\n",
        "df['CC'] = CC\n",
        "df['MLO'] = MLO\n",
        "df['Pathology'] = Pathology\n",
        "df['Type'] = Type\n",
        "df['BI-RADS'] = birads\n",
        "\n",
        "df"
      ],
      "metadata": {
        "id": "xxJnvNwJ4xfw"
      },
      "execution_count": null,
      "outputs": []
    },
    {
      "cell_type": "code",
      "source": [
        "indexes = []\n",
        "for i in tqdm(range(len(df))):\n",
        "    cc = root_path+df['CC'].values[i]\n",
        "    mlo = root_path+df['MLO'].values[i]\n",
        "\n",
        "    if (os.path.isfile(cc)) and (os.path.isfile(mlo)):\n",
        "        continue\n",
        "    else:\n",
        "        indexes.append(i)\n",
        "\n",
        "print(len(indexes))"
      ],
      "metadata": {
        "id": "H2fZKolx9m7I"
      },
      "execution_count": null,
      "outputs": []
    },
    {
      "cell_type": "code",
      "source": [
        "df2 = df.drop(index=indexes)\n",
        "df2"
      ],
      "metadata": {
        "id": "isIDfNPl-G7y"
      },
      "execution_count": null,
      "outputs": []
    },
    {
      "cell_type": "code",
      "source": [
        "p = df2['PatientID'].values\n",
        "p = np.unique(p)\n",
        "print(len(p))"
      ],
      "metadata": {
        "id": "4XYQzHiq5pUO"
      },
      "execution_count": null,
      "outputs": []
    },
    {
      "cell_type": "code",
      "source": [
        "print(len(df2.loc[df2['BI-RADS']==1]))\n",
        "print(len(df2.loc[df2['BI-RADS']==2]))\n",
        "print(len(df2.loc[df2['BI-RADS']==3]))\n",
        "print(len(df2.loc[df2['BI-RADS']==4]))\n",
        "print(len(df2.loc[df2['BI-RADS']==5]))"
      ],
      "metadata": {
        "id": "QsNdLnf146o-"
      },
      "execution_count": null,
      "outputs": []
    },
    {
      "cell_type": "code",
      "source": [
        "df2.to_csv(root_path+'kaa-meta-data.csv')"
      ],
      "metadata": {
        "id": "-tm13ehT5lor"
      },
      "execution_count": null,
      "outputs": []
    },
    {
      "cell_type": "code",
      "source": [
        "for i in range(10):\n",
        "    cc = root_path+df['CC'].values[i]\n",
        "    mlo = root_path+df['MLO'].values[i]\n",
        "\n",
        "    s = df['Side'].values[i]\n",
        "\n",
        "    img = sitk.ReadImage(cc)\n",
        "    img = sitk.GetArrayFromImage(img)[0]\n",
        "    # img = np.clip(img, 0, 200)\n",
        "    img = (((img - img.min())/(img.max() - img.min()))*255).astype(np.uint8)\n",
        "    img = process(img, 100)\n",
        "\n",
        "    print('*********************{}**********************'.format(i))\n",
        "    plt.figure()\n",
        "    plt.subplot(1, 2, 1)\n",
        "    plt.imshow(img, cmap='gray')\n",
        "    plt.title('{}-{}'.format(s, 'CC'))\n",
        "    plt.axis('off')\n",
        "\n",
        "    img = sitk.ReadImage(mlo)\n",
        "    img = sitk.GetArrayFromImage(img)[0]\n",
        "    # img = np.clip(img, 0, 50)\n",
        "    img = (((img - img.min())/(img.max() - img.min()))*255).astype(np.uint8)\n",
        "    img = process(img, 100)\n",
        "\n",
        "    plt.subplot(1, 2, 2)\n",
        "    plt.imshow(img, cmap='gray')\n",
        "    plt.title('{}-{}'.format(s, 'MLO'))\n",
        "    plt.axis('off')\n",
        "    plt.show()\n",
        "    break"
      ],
      "metadata": {
        "id": "MC4FPoDj60nC"
      },
      "execution_count": null,
      "outputs": []
    },
    {
      "cell_type": "code",
      "source": [
        ""
      ],
      "metadata": {
        "id": "5g8PiRHn671u"
      },
      "execution_count": null,
      "outputs": []
    }
  ]
}