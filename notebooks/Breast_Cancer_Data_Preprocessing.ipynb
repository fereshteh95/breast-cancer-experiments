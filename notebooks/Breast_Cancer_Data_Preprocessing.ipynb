{
  "nbformat": 4,
  "nbformat_minor": 0,
  "metadata": {
    "colab": {
      "name": "Breast Cancer Data Preprocessing.ipynb",
      "provenance": [],
      "collapsed_sections": [
        "LW7M0TT9eS1P",
        "c5xFCi2VGSzw",
        "aSf0pZXCshXY"
      ]
    },
    "kernelspec": {
      "name": "python3",
      "display_name": "Python 3"
    },
    "language_info": {
      "name": "python"
    }
  },
  "cells": [
    {
      "cell_type": "code",
      "source": [
        "from google.colab import drive\n",
        "drive.mount('/content/drive')"
      ],
      "metadata": {
        "id": "Oc07uH5wdEx5"
      },
      "execution_count": null,
      "outputs": []
    },
    {
      "cell_type": "code",
      "metadata": {
        "id": "LXsvz1Zaz2Bq"
      },
      "source": [
        "!pip install SimpleITK==2.1.1\n",
        "import SimpleITK as sitk\n",
        "import numpy as np\n",
        "import pandas as pd\n",
        "import cv2\n",
        "from tqdm.notebook import tqdm\n",
        "import copy\n",
        "import os\n",
        "import glob\n",
        "import shutil\n",
        "import random\n",
        "from sklearn.utils import shuffle\n",
        "import matplotlib.pyplot as plt"
      ],
      "execution_count": null,
      "outputs": []
    },
    {
      "cell_type": "code",
      "metadata": {
        "id": "i7NQO_F12vOU"
      },
      "source": [
        "def select_largest_obj(img_bin, lab_val=255, fill_holes=False, \n",
        "                       smooth_boundary=False, kernel_size=15):\n",
        "    '''Select the largest object from a binary image and optionally\n",
        "    fill holes inside it and smooth its boundary.\n",
        "    Args:\n",
        "        img_bin(2D array): 2D numpy array of binary image.\n",
        "        lab_val([int]): integer value used for the label of the largest \n",
        "                        object. Default is 255.\n",
        "        fill_holes([boolean]): whether fill the holes inside the largest \n",
        "                               object or not. Default is false.\n",
        "        smooth_boundary([boolean]): whether smooth the boundary of the \n",
        "                                    largest object using morphological \n",
        "                                    opening or not. Default is false.\n",
        "        kernel_size([int]): the size of the kernel used for morphological \n",
        "                            operation.\n",
        "    '''\n",
        "    n_labels, img_labeled, lab_stats, _ = cv2.connectedComponentsWithStats(\n",
        "        img_bin, connectivity=8, ltype=cv2.CV_32S)\n",
        "    largest_obj_lab = np.argmax(lab_stats[1:, 4]) + 1\n",
        "    largest_mask = np.zeros(img_bin.shape, dtype=np.uint8)\n",
        "    largest_mask[img_labeled == largest_obj_lab] = lab_val\n",
        "    if fill_holes:\n",
        "        bkg_locs = np.where(img_labeled == 0)\n",
        "        bkg_seed = (bkg_locs[0][0], bkg_locs[1][0])\n",
        "        img_floodfill = largest_mask.copy()\n",
        "        h_, w_ = largest_mask.shape\n",
        "        mask_ = np.zeros((h_ + 2, w_ + 2), dtype=np.uint8)\n",
        "        cv2.floodFill(img_floodfill, mask_, seedPoint=bkg_seed, newVal=lab_val)\n",
        "        holes_mask = cv2.bitwise_not(img_floodfill)  # mask of the holes.\n",
        "        largest_mask = largest_mask + holes_mask\n",
        "    if smooth_boundary:\n",
        "        kernel_ = np.ones((kernel_size, kernel_size), dtype=np.uint8)\n",
        "        largest_mask = cv2.morphologyEx(largest_mask, cv2.MORPH_OPEN, kernel_)\n",
        "    \n",
        "    cnts, _ = cv2.findContours(largest_mask.astype(np.uint8), cv2.RETR_EXTERNAL, cv2.CHAIN_APPROX_SIMPLE)\n",
        "    cnt = max(cnts, key = cv2.contourArea)\n",
        "    x, y, w, h = cv2.boundingRect(cnt)\n",
        "    return x, y, w, h, largest_mask"
      ],
      "execution_count": null,
      "outputs": []
    },
    {
      "cell_type": "code",
      "metadata": {
        "id": "KPsVNHwr2vOW"
      },
      "source": [
        "def cropp_image(img, threshold, truncate = False):\n",
        "    _, binary_img = cv2.threshold(img, threshold, \n",
        "                                    maxval=255, type=cv2.THRESH_BINARY)\n",
        "    x, y, w, h, mask_img = select_largest_obj(binary_img, lab_val=255, \n",
        "                                       fill_holes=False, \n",
        "                                       smooth_boundary=True, kernel_size=2)\n",
        "    croped_img, br_mask = img[y:y+h, x:x+w], mask_img[y:y+h, x:x+w]\n",
        "\n",
        "    if truncate:\n",
        "        Pmin = np.percentile(croped_img[br_mask!=0], 5)\n",
        "        Pmax = np.percentile(croped_img[br_mask!=0], 99)\n",
        "        truncated = np.clip(croped_img,Pmin, Pmax)  \n",
        "        normalized = (truncated - Pmin)/(Pmax - Pmin)\n",
        "        normalized[br_mask==0]=0\n",
        "        filtered_img = normalized\n",
        "    else:\n",
        "        filtered_img = croped_img\n",
        "    filtered_img = ((filtered_img - filtered_img.min()) / (filtered_img.max() - filtered_img.min())*255).astype(np.uint8)\n",
        "    return filtered_img"
      ],
      "execution_count": null,
      "outputs": []
    },
    {
      "cell_type": "code",
      "source": [
        "def synthesize(img):\n",
        "    clahe = cv2.createCLAHE(clipLimit=2, tileGridSize=(5,5))\n",
        "    cl1 = clahe.apply(np.array(img, dtype=np.uint8))\n",
        "    cl1 = ((cl1 - cl1.min()) / (cl1.max() - cl1.min())*255).astype(np.uint8)\n",
        "\n",
        "    clahe = cv2.createCLAHE(clipLimit=3)\n",
        "    cl2 = clahe.apply(np.array(img, dtype=np.uint8))\n",
        "    cl2 = ((cl2 - cl2.min()) / (cl2.max() - cl2.min())*255).astype(np.uint8)\n",
        "\n",
        "    synthetized = cv2.merge((img,cl1,cl2))\n",
        "    return synthetized.astype(np.uint8)"
      ],
      "metadata": {
        "id": "BhLgZNANDTcE"
      },
      "execution_count": null,
      "outputs": []
    },
    {
      "cell_type": "code",
      "source": [
        "import numpy as np\n",
        "from scipy.ndimage import zoom\n",
        "\n",
        "\n",
        "def clipped_zoom(img, zoom_factor, **kwargs):\n",
        "\n",
        "    h, w = img.shape[:2]\n",
        "\n",
        "    zoom_tuple = (zoom_factor,) * 2 + (1,) * (img.ndim - 2)\n",
        "    zh = int(np.round(h / zoom_factor))\n",
        "    zw = int(np.round(w))\n",
        "    top = (h - zh) // 2\n",
        "    left = (w - zw) // 2\n",
        "\n",
        "    out = zoom(img[top:top+zh, left:left+zw], zoom_tuple, **kwargs)\n",
        "    return out"
      ],
      "metadata": {
        "id": "hiFAUx4F-h5u"
      },
      "execution_count": null,
      "outputs": []
    },
    {
      "cell_type": "code",
      "source": [
        "root_path = '/content/drive/MyDrive/Breast Cancer Datasets/'"
      ],
      "metadata": {
        "id": "HNqvQxgDgiUW"
      },
      "execution_count": null,
      "outputs": []
    },
    {
      "cell_type": "markdown",
      "source": [
        "# CMMD"
      ],
      "metadata": {
        "id": "LW7M0TT9eS1P"
      }
    },
    {
      "cell_type": "code",
      "source": [
        "def read_cmmd_dicom(path):\n",
        "    img = sitk.ReadImage(path)\n",
        "    img_hu = sitk.GetArrayFromImage(img)[0]\n",
        "    img = (((img_hu - img_hu.min())/(img_hu.max() - img_hu.min()))*255).astype(np.uint8)\n",
        "    img = cropp_image(img, 5, True)\n",
        "    return img"
      ],
      "metadata": {
        "id": "Ji32GDFWgPOV"
      },
      "execution_count": null,
      "outputs": []
    },
    {
      "cell_type": "code",
      "source": [
        "clinical = pd.read_csv(root_path+'cmmd-meta-data.csv')\n",
        "clinical"
      ],
      "metadata": {
        "id": "KfgiIoDg6fTj"
      },
      "execution_count": null,
      "outputs": []
    },
    {
      "cell_type": "code",
      "source": [
        "os.mkdir('CMMD')"
      ],
      "metadata": {
        "id": "WvfmZLHDdU6P"
      },
      "execution_count": null,
      "outputs": []
    },
    {
      "cell_type": "code",
      "source": [
        "metadict = {\n",
        "    'PatientID': [],\n",
        "    'Side': [],\n",
        "\n",
        "    'CC': [],\n",
        "    'MLO': [],\n",
        "\n",
        "    'Pathology': [],\n",
        "    'Type': [],\n",
        "    'BI-RADS': [],\n",
        "    'Density': [],\n",
        "    'Subtype': [],\n",
        "    'Age': []\n",
        "}\n",
        "\n",
        "for i in tqdm(range(len(clinical))):\n",
        "    p_id = clinical['PatientID'].values[i]\n",
        "    side = clinical['Side'].values[i]\n",
        "    cc = root_path+clinical['CC'].values[i]\n",
        "    mlo = root_path+clinical['MLO'].values[i]\n",
        "    pathology = clinical['Pathology'].values[i]\n",
        "    typee = clinical['Type'].values[i]\n",
        "    subtype = clinical['subtype'].values[i]\n",
        "    age = clinical['Age'].values[i]\n",
        "    dense = None\n",
        "    birad = None\n",
        "\n",
        "    p_folder = 'CMMD/{}/'.format(p_id)\n",
        "    if p_id not in metadict['PatientID']:\n",
        "        os.mkdir(p_folder)\n",
        "\n",
        "    s_folder = p_folder+'{}/'.format(side)\n",
        "    os.mkdir(s_folder)\n",
        "    cc_new = s_folder+'CC.jpg'\n",
        "    mlo_new = s_folder+'MLO.jpg'\n",
        "\n",
        "    cc_img = read_cmmd_dicom(cc)\n",
        "    mlo_img = read_cmmd_dicom(mlo)\n",
        "\n",
        "    cv2.imwrite(cc_new, cc_img)\n",
        "    cv2.imwrite(mlo_new, mlo_img)\n",
        "\n",
        "    metadict['PatientID'].append(p_id)\n",
        "    metadict['Side'].append(side)\n",
        "    metadict['CC'].append(cc_new)\n",
        "    metadict['MLO'].append(mlo_new)\n",
        "    metadict['Pathology'].append(pathology)\n",
        "    metadict['Type'].append(typee)\n",
        "    metadict['Subtype'].append(subtype)\n",
        "    metadict['Age'].append(age)\n",
        "    metadict['BI-RADS'].append(birad)\n",
        "    metadict['Density'].append(dense)"
      ],
      "metadata": {
        "id": "3ywHrRO4dmUt"
      },
      "execution_count": null,
      "outputs": []
    },
    {
      "cell_type": "code",
      "source": [
        "df = pd.DataFrame.from_dict(metadict)\n",
        "df"
      ],
      "metadata": {
        "id": "WZ18W9n7is-u"
      },
      "execution_count": null,
      "outputs": []
    },
    {
      "cell_type": "code",
      "source": [
        "shutil.make_archive('/content/drive/MyDrive/Breast Cancer Preprocessed Datasets/CMMD',\n",
        "                    'zip',\n",
        "                    '/content/CMMD')"
      ],
      "metadata": {
        "id": "qBl956Mdi1CP"
      },
      "execution_count": null,
      "outputs": []
    },
    {
      "cell_type": "code",
      "source": [
        "df.to_csv('/content/drive/MyDrive/Breast Cancer Preprocessed Datasets/cmmd-meta-data.csv')"
      ],
      "metadata": {
        "id": "q1pjfTgzjPKa"
      },
      "execution_count": null,
      "outputs": []
    },
    {
      "cell_type": "markdown",
      "source": [
        "# CBIS-DDSM"
      ],
      "metadata": {
        "id": "c5xFCi2VGSzw"
      }
    },
    {
      "cell_type": "code",
      "source": [
        "def read_cbis_dicom(path):\n",
        "    img = sitk.ReadImage(path)\n",
        "    img_hu = sitk.GetArrayFromImage(img)[0]\n",
        "    img = (((img_hu - img_hu.min())/(img_hu.max() - img_hu.min()))*255).astype(np.uint8)\n",
        "    img = clipped_zoom(img, 1.2)\n",
        "    img = cropp_image(img, 5, True)\n",
        "    return img"
      ],
      "metadata": {
        "id": "mR_-e4jd4hjH"
      },
      "execution_count": null,
      "outputs": []
    },
    {
      "cell_type": "code",
      "source": [
        "clinical = pd.read_csv(root_path+'cbis-meta-data.csv')\n",
        "clinical"
      ],
      "metadata": {
        "id": "5o8Hdia0GSz5"
      },
      "execution_count": null,
      "outputs": []
    },
    {
      "cell_type": "code",
      "source": [
        "p = clinical['PatientID'].values\n",
        "p, n = np.unique(p, return_counts=True)\n",
        "np.unique(n, return_counts=True)"
      ],
      "metadata": {
        "id": "A6eaPTF4kptp"
      },
      "execution_count": null,
      "outputs": []
    },
    {
      "cell_type": "code",
      "source": [
        "os.mkdir('CBIS')"
      ],
      "metadata": {
        "id": "2LSY8zn2kIwe"
      },
      "execution_count": null,
      "outputs": []
    },
    {
      "cell_type": "code",
      "source": [
        "metadict = {\n",
        "    'PatientID': [],\n",
        "    'Side': [],\n",
        "\n",
        "    'CC': [],\n",
        "    'MLO': [],\n",
        "\n",
        "    'Pathology': [],\n",
        "    'Type': [],\n",
        "    'BI-RADS': [],\n",
        "    'Density': [],\n",
        "    'Subtype': [],\n",
        "    'Age': []\n",
        "}\n",
        "\n",
        "for i in tqdm(range(len(clinical))):\n",
        "    p_id = clinical['PatientID'].values[i]\n",
        "    side = clinical['Side'].values[i][0]\n",
        "    cc = root_path+clinical['CC'].values[i]\n",
        "    mlo = root_path+clinical['MLO'].values[i]\n",
        "    pathology = clinical['Pathology'].values[i]\n",
        "    typee = clinical['Type'].values[i]\n",
        "    subtype = None\n",
        "    age = None\n",
        "    dense = clinical['Density'].values[i]\n",
        "    birad = clinical['Assessment'].values[i]\n",
        "\n",
        "    p_folder = 'CBIS/{}/'.format(p_id)\n",
        "    if p_id not in metadict['PatientID']:\n",
        "        os.mkdir(p_folder)\n",
        "\n",
        "    s_folder = p_folder+'{}/'.format(side)\n",
        "    os.mkdir(s_folder)\n",
        "    cc_new = s_folder+'CC.jpg'\n",
        "    mlo_new = s_folder+'MLO.jpg'\n",
        "\n",
        "    cc_img = read_cbis_dicom(cc)\n",
        "    mlo_img = read_cbis_dicom(mlo)\n",
        "\n",
        "    cv2.imwrite(cc_new, cc_img)\n",
        "    cv2.imwrite(mlo_new, mlo_img)\n",
        "\n",
        "    metadict['PatientID'].append(p_id)\n",
        "    metadict['Side'].append(side)\n",
        "    metadict['CC'].append(cc_new)\n",
        "    metadict['MLO'].append(mlo_new)\n",
        "    metadict['Pathology'].append(pathology)\n",
        "    metadict['Type'].append(typee)\n",
        "    metadict['Subtype'].append(subtype)\n",
        "    metadict['Age'].append(age)\n",
        "    metadict['BI-RADS'].append(birad)\n",
        "    metadict['Density'].append(dense)"
      ],
      "metadata": {
        "id": "3POu7_YikHO5"
      },
      "execution_count": null,
      "outputs": []
    },
    {
      "cell_type": "code",
      "source": [
        "df = pd.DataFrame.from_dict(metadict)\n",
        "df"
      ],
      "metadata": {
        "id": "k2nDNsC96jN5"
      },
      "execution_count": null,
      "outputs": []
    },
    {
      "cell_type": "code",
      "source": [
        "shutil.make_archive('/content/drive/MyDrive/Breast Cancer Preprocessed Datasets/CBIS',\n",
        "                    'zip',\n",
        "                    '/content/CBIS'\n",
        "                    )"
      ],
      "metadata": {
        "id": "j2nmuOkbkHO8"
      },
      "execution_count": null,
      "outputs": []
    },
    {
      "cell_type": "code",
      "source": [
        "df.to_csv('/content/drive/MyDrive/Breast Cancer Preprocessed Datasets/cbis-meta-data.csv')"
      ],
      "metadata": {
        "id": "re7IVFy1kHO8"
      },
      "execution_count": null,
      "outputs": []
    },
    {
      "cell_type": "markdown",
      "source": [
        "# Local DICOM Data"
      ],
      "metadata": {
        "id": "aSf0pZXCshXY"
      }
    },
    {
      "cell_type": "code",
      "source": [
        "clinical = pd.read_csv(root_path+'local-meta-data.csv')\n",
        "clinical.head()"
      ],
      "metadata": {
        "id": "fn1OAxsYjJyH"
      },
      "execution_count": null,
      "outputs": []
    },
    {
      "cell_type": "code",
      "source": [
        "sample = list(clinical['CC'].values)\n",
        "sample2 = list(clinical['MLO'].values)\n",
        "\n",
        "sample.extend(sample2)\n",
        "np.random.shuffle(sample)\n",
        "dicoms = [root_path+x for x in sample]\n",
        "print(len(dicoms))"
      ],
      "metadata": {
        "id": "fslDToaRjJyH"
      },
      "execution_count": null,
      "outputs": []
    },
    {
      "cell_type": "markdown",
      "source": [
        "## Crop, Clahe, Synthesize"
      ],
      "metadata": {
        "id": "KmLUPul9jJyI"
      }
    },
    {
      "cell_type": "code",
      "source": [
        "for i in range(20):\n",
        "    img = sitk.ReadImage(dicoms[i*25])\n",
        "    img_hu = sitk.GetArrayFromImage(img)[0]\n",
        "    img = (((img_hu - img_hu.min())/(img_hu.max() - img_hu.min()))*255).astype(np.uint8)\n",
        "\n",
        "    plt.figure(figsize=(20, 4))\n",
        "    plt.subplot(1, 4, 1)\n",
        "    plt.imshow(img_hu, cmap='gray')\n",
        "    plt.axis('off')\n",
        "    plt.title('original')\n",
        "\n",
        "    \n",
        "    img = cropp_image(img, 5)\n",
        "    plt.subplot(1, 4, 2)\n",
        "    plt.imshow(img, cmap='gray')\n",
        "    plt.axis('off')\n",
        "    plt.title('Cropped')\n",
        "\n",
        "    plt.subplot(1, 4, 3)\n",
        "    cl = cv2.createCLAHE(2)\n",
        "    img_clipped = cl.apply(img)\n",
        "    plt.imshow(img_clipped, cmap='gray')\n",
        "    plt.axis('off')\n",
        "    plt.title('Clahe: 2')\n",
        "\n",
        "    plt.subplot(1, 4, 4)\n",
        "    img = synthesize(img)\n",
        "    plt.imshow(img)\n",
        "    plt.axis('off')\n",
        "    plt.title('Synthesized')\n",
        "    plt.show()"
      ],
      "metadata": {
        "id": "dpV5L2_ljJyI"
      },
      "execution_count": null,
      "outputs": []
    },
    {
      "cell_type": "markdown",
      "source": [
        "## Crop, Trucate, Clahe, Synthesize"
      ],
      "metadata": {
        "id": "H23Yb0JYjJyI"
      }
    },
    {
      "cell_type": "code",
      "source": [
        "for i in range(20):\n",
        "    img = sitk.ReadImage(dicoms[i*25])\n",
        "    img_hu = sitk.GetArrayFromImage(img)[0]\n",
        "    img = (((img_hu - img_hu.min())/(img_hu.max() - img_hu.min()))*255).astype(np.uint8)\n",
        "\n",
        "    plt.figure(figsize=(20, 4))\n",
        "    plt.subplot(1, 4, 1)\n",
        "    plt.imshow(img_hu, cmap='gray')\n",
        "    plt.axis('off')\n",
        "    plt.title('original')\n",
        "\n",
        "    \n",
        "    img = cropp_image(img, 5, True)\n",
        "    plt.subplot(1, 4, 2)\n",
        "    plt.imshow(img, cmap='gray')\n",
        "    plt.axis('off')\n",
        "    plt.title('Cropped')\n",
        "\n",
        "    plt.subplot(1, 4, 3)\n",
        "    cl = cv2.createCLAHE(2)\n",
        "    img_clipped = cl.apply(img)\n",
        "    plt.imshow(img_clipped, cmap='gray')\n",
        "    plt.axis('off')\n",
        "    plt.title('Clahe: 2')\n",
        "\n",
        "    plt.subplot(1, 4, 4)\n",
        "    img = synthesize(img)\n",
        "    plt.imshow(img)\n",
        "    plt.axis('off')\n",
        "    plt.title('Synthesized')\n",
        "    plt.show()"
      ],
      "metadata": {
        "id": "VkDOhZZLjJyI"
      },
      "execution_count": null,
      "outputs": []
    },
    {
      "cell_type": "code",
      "source": [
        ""
      ],
      "metadata": {
        "id": "WM6eiYzLkCqP"
      },
      "execution_count": null,
      "outputs": []
    },
    {
      "cell_type": "markdown",
      "source": [
        "# KAA Data"
      ],
      "metadata": {
        "id": "nrxbaYGj8Q2i"
      }
    },
    {
      "cell_type": "code",
      "source": [
        "clinical = pd.read_csv(root_path+'kaa-meta-data.csv')\n",
        "clinical"
      ],
      "metadata": {
        "id": "1GuUZ8qC8Q2j"
      },
      "execution_count": null,
      "outputs": []
    },
    {
      "cell_type": "code",
      "source": [
        "sample = list(clinical['CC'].values)\n",
        "sample2 = list(clinical['MLO'].values)\n",
        "\n",
        "sample.extend(sample2)\n",
        "np.random.shuffle(sample)\n",
        "dicoms = [root_path+x for x in sample]\n",
        "print(len(dicoms))"
      ],
      "metadata": {
        "id": "9SQqVuqK8Q2j"
      },
      "execution_count": null,
      "outputs": []
    },
    {
      "cell_type": "markdown",
      "source": [
        "## Crop, Clahe, Synthesize"
      ],
      "metadata": {
        "id": "gszO-qfe8Q2k"
      }
    },
    {
      "cell_type": "code",
      "source": [
        "for i in range(20):\n",
        "    img = sitk.ReadImage(dicoms[i*210])\n",
        "    img_hu = sitk.GetArrayFromImage(img)[0]\n",
        "    img = (((img_hu - img_hu.min())/(img_hu.max() - img_hu.min()))*255).astype(np.uint8)\n",
        "\n",
        "    plt.figure(figsize=(20, 4))\n",
        "    plt.subplot(1, 4, 1)\n",
        "    plt.imshow(img_hu, cmap='gray')\n",
        "    plt.axis('off')\n",
        "    plt.title('original')\n",
        "\n",
        "    \n",
        "    img = cropp_image(img, 100)\n",
        "    plt.subplot(1, 4, 2)\n",
        "    plt.imshow(img, cmap='gray')\n",
        "    plt.axis('off')\n",
        "    plt.title('Cropped')\n",
        "\n",
        "    plt.subplot(1, 4, 3)\n",
        "    cl = cv2.createCLAHE(2)\n",
        "    img_clipped = cl.apply(img)\n",
        "    plt.imshow(img_clipped, cmap='gray')\n",
        "    plt.axis('off')\n",
        "    plt.title('Clahe: 2')\n",
        "\n",
        "    plt.subplot(1, 4, 4)\n",
        "    img = synthesize(img)\n",
        "    plt.imshow(img)\n",
        "    plt.axis('off')\n",
        "    plt.title('Synthesized')\n",
        "    plt.show()"
      ],
      "metadata": {
        "id": "kHiX9sYM8Q2k"
      },
      "execution_count": null,
      "outputs": []
    },
    {
      "cell_type": "markdown",
      "source": [
        "## Crop, Trucate, Clahe, Synthesize"
      ],
      "metadata": {
        "id": "oM0HZwuU8Q2k"
      }
    },
    {
      "cell_type": "code",
      "source": [
        "for i in range(20):\n",
        "    img = sitk.ReadImage(dicoms[i*210])\n",
        "    img_hu = sitk.GetArrayFromImage(img)[0]\n",
        "    img = (((img_hu - img_hu.min())/(img_hu.max() - img_hu.min()))*255).astype(np.uint8)\n",
        "\n",
        "    plt.figure(figsize=(20, 4))\n",
        "    plt.subplot(1, 4, 1)\n",
        "    plt.imshow(img_hu, cmap='gray')\n",
        "    plt.axis('off')\n",
        "    plt.title('original')\n",
        "\n",
        "    \n",
        "    img = cropp_image(img, 100, True)\n",
        "    plt.subplot(1, 4, 2)\n",
        "    plt.imshow(img, cmap='gray')\n",
        "    plt.axis('off')\n",
        "    plt.title('Cropped')\n",
        "\n",
        "    plt.subplot(1, 4, 3)\n",
        "    cl = cv2.createCLAHE(2)\n",
        "    img_clipped = cl.apply(img)\n",
        "    plt.imshow(img_clipped, cmap='gray')\n",
        "    plt.axis('off')\n",
        "    plt.title('Clahe: 2')\n",
        "\n",
        "    plt.subplot(1, 4, 4)\n",
        "    img = synthesize(img)\n",
        "    plt.imshow(img)\n",
        "    plt.axis('off')\n",
        "    plt.title('Synthesized')\n",
        "    plt.show()"
      ],
      "metadata": {
        "id": "FMNJnIlv8Q2k"
      },
      "execution_count": null,
      "outputs": []
    },
    {
      "cell_type": "code",
      "source": [
        ""
      ],
      "metadata": {
        "id": "uv4kyQNQ8Q2l"
      },
      "execution_count": null,
      "outputs": []
    }
  ]
}